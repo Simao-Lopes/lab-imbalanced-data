{
 "cells": [
  {
   "cell_type": "markdown",
   "id": "71808749",
   "metadata": {},
   "source": [
    "# Lab | Imbalanced data\n",
    "\n",
    "We will be using the `files_for_lab/customer_churn.csv` dataset to build a churn predictor.\n",
    "\n",
    "Instructions\n",
    "\n",
    "1. Load the dataset and explore the variables.\n",
    "2. We will try to predict variable `Churn` using a logistic regression on variables `tenure`, `SeniorCitizen`,`MonthlyCharges`.\n",
    "3. Extract the target variable.\n",
    "4. Extract the independent variables and scale them.\n",
    "5. Build the logistic regression model.\n",
    "6. Evaluate the model.\n",
    "7. Even a simple model will give us more than 70% accuracy. Why?\n",
    "8. **Synthetic Minority Oversampling TEchnique (SMOTE)** is an over sampling technique based on nearest neighbors that adds new points between existing points. Apply `imblearn.over_sampling.SMOTE` to the dataset. Build and evaluate the logistic regression model. Is it there any improvement?\n"
   ]
  },
  {
   "cell_type": "markdown",
   "id": "d8559d8b",
   "metadata": {},
   "source": [
    "## Import Libraries"
   ]
  },
  {
   "cell_type": "code",
   "execution_count": 1,
   "id": "9221eb90",
   "metadata": {
    "ExecuteTime": {
     "end_time": "2022-09-23T21:11:09.144289Z",
     "start_time": "2022-09-23T21:11:07.719262Z"
    }
   },
   "outputs": [],
   "source": [
    "import pandas as pd\n",
    "import numpy as np\n",
    "import seaborn as sns\n",
    "import matplotlib.pyplot as plt\n",
    "from sklearn.model_selection import train_test_split\n",
    "from sklearn.preprocessing import MinMaxScaler\n",
    "from sklearn.linear_model import LogisticRegression\n",
    "from sklearn.metrics import precision_score\n",
    "from sklearn.metrics import recall_score\n",
    "from sklearn.metrics import f1_score\n",
    "from sklearn.metrics import confusion_matrix\n",
    "from imblearn.over_sampling import SMOTE\n"
   ]
  },
  {
   "cell_type": "markdown",
   "id": "c979116b",
   "metadata": {},
   "source": [
    "## Importing the data "
   ]
  },
  {
   "cell_type": "code",
   "execution_count": 2,
   "id": "6d779f30",
   "metadata": {
    "ExecuteTime": {
     "end_time": "2022-09-23T21:11:09.176118Z",
     "start_time": "2022-09-23T21:11:09.145292Z"
    },
    "scrolled": true
   },
   "outputs": [],
   "source": [
    "data = pd.read_csv('customer_churn.csv')"
   ]
  },
  {
   "cell_type": "markdown",
   "id": "ab64d6a9",
   "metadata": {},
   "source": [
    "### Using only the columns that are required and checking dtypes"
   ]
  },
  {
   "cell_type": "code",
   "execution_count": 3,
   "id": "1793b9fe",
   "metadata": {
    "ExecuteTime": {
     "end_time": "2022-09-23T21:11:09.191326Z",
     "start_time": "2022-09-23T21:11:09.177313Z"
    },
    "scrolled": true
   },
   "outputs": [
    {
     "data": {
      "text/html": [
       "<div>\n",
       "<style scoped>\n",
       "    .dataframe tbody tr th:only-of-type {\n",
       "        vertical-align: middle;\n",
       "    }\n",
       "\n",
       "    .dataframe tbody tr th {\n",
       "        vertical-align: top;\n",
       "    }\n",
       "\n",
       "    .dataframe thead th {\n",
       "        text-align: right;\n",
       "    }\n",
       "</style>\n",
       "<table border=\"1\" class=\"dataframe\">\n",
       "  <thead>\n",
       "    <tr style=\"text-align: right;\">\n",
       "      <th></th>\n",
       "      <th>tenure</th>\n",
       "      <th>SeniorCitizen</th>\n",
       "      <th>MonthlyCharges</th>\n",
       "      <th>Churn</th>\n",
       "    </tr>\n",
       "  </thead>\n",
       "  <tbody>\n",
       "    <tr>\n",
       "      <th>0</th>\n",
       "      <td>1</td>\n",
       "      <td>0</td>\n",
       "      <td>29.85</td>\n",
       "      <td>No</td>\n",
       "    </tr>\n",
       "    <tr>\n",
       "      <th>1</th>\n",
       "      <td>34</td>\n",
       "      <td>0</td>\n",
       "      <td>56.95</td>\n",
       "      <td>No</td>\n",
       "    </tr>\n",
       "    <tr>\n",
       "      <th>2</th>\n",
       "      <td>2</td>\n",
       "      <td>0</td>\n",
       "      <td>53.85</td>\n",
       "      <td>Yes</td>\n",
       "    </tr>\n",
       "    <tr>\n",
       "      <th>3</th>\n",
       "      <td>45</td>\n",
       "      <td>0</td>\n",
       "      <td>42.30</td>\n",
       "      <td>No</td>\n",
       "    </tr>\n",
       "    <tr>\n",
       "      <th>4</th>\n",
       "      <td>2</td>\n",
       "      <td>0</td>\n",
       "      <td>70.70</td>\n",
       "      <td>Yes</td>\n",
       "    </tr>\n",
       "  </tbody>\n",
       "</table>\n",
       "</div>"
      ],
      "text/plain": [
       "   tenure  SeniorCitizen  MonthlyCharges Churn\n",
       "0       1              0           29.85    No\n",
       "1      34              0           56.95    No\n",
       "2       2              0           53.85   Yes\n",
       "3      45              0           42.30    No\n",
       "4       2              0           70.70   Yes"
      ]
     },
     "metadata": {},
     "output_type": "display_data"
    },
    {
     "data": {
      "text/plain": [
       "tenure              int64\n",
       "SeniorCitizen       int64\n",
       "MonthlyCharges    float64\n",
       "Churn              object\n",
       "dtype: object"
      ]
     },
     "execution_count": 3,
     "metadata": {},
     "output_type": "execute_result"
    }
   ],
   "source": [
    "data = data[['tenure','SeniorCitizen','MonthlyCharges','Churn']]\n",
    "display(data.head())\n",
    "data.dtypes"
   ]
  },
  {
   "cell_type": "markdown",
   "id": "69b99683",
   "metadata": {},
   "source": [
    "No NaN's at our work columns, so no further work required at this point"
   ]
  },
  {
   "cell_type": "code",
   "execution_count": 4,
   "id": "36dd7ab1",
   "metadata": {
    "ExecuteTime": {
     "end_time": "2022-09-23T21:11:09.206527Z",
     "start_time": "2022-09-23T21:11:09.192327Z"
    }
   },
   "outputs": [
    {
     "data": {
      "text/plain": [
       "tenure            0\n",
       "SeniorCitizen     0\n",
       "MonthlyCharges    0\n",
       "Churn             0\n",
       "dtype: int64"
      ]
     },
     "execution_count": 4,
     "metadata": {},
     "output_type": "execute_result"
    }
   ],
   "source": [
    "data.isna().sum()"
   ]
  },
  {
   "cell_type": "markdown",
   "id": "91fac500",
   "metadata": {},
   "source": [
    "We can se an obvious high imbalance Between Yes and No results."
   ]
  },
  {
   "cell_type": "code",
   "execution_count": 5,
   "id": "e6e16eb9",
   "metadata": {
    "ExecuteTime": {
     "end_time": "2022-09-23T21:11:09.222528Z",
     "start_time": "2022-09-23T21:11:09.207528Z"
    },
    "scrolled": true
   },
   "outputs": [
    {
     "data": {
      "text/plain": [
       "No     5174\n",
       "Yes    1869\n",
       "Name: Churn, dtype: int64"
      ]
     },
     "execution_count": 5,
     "metadata": {},
     "output_type": "execute_result"
    }
   ],
   "source": [
    "data.Churn.value_counts()"
   ]
  },
  {
   "cell_type": "markdown",
   "id": "ad58f608",
   "metadata": {},
   "source": [
    "Visual check on data distribuition and range of our features"
   ]
  },
  {
   "cell_type": "code",
   "execution_count": 6,
   "id": "ab0a9518",
   "metadata": {
    "ExecuteTime": {
     "end_time": "2022-09-23T21:11:09.925185Z",
     "start_time": "2022-09-23T21:11:09.223529Z"
    },
    "scrolled": false
   },
   "outputs": [
    {
     "data": {
      "text/plain": [
       "<AxesSubplot:xlabel='MonthlyCharges', ylabel='Count'>"
      ]
     },
     "execution_count": 6,
     "metadata": {},
     "output_type": "execute_result"
    },
    {
     "data": {
      "image/png": "[encoded data removed]",
      "text/plain": [
       "<Figure size 1080x360 with 2 Axes>"
      ]
     },
     "metadata": {
      "needs_background": "light"
     },
     "output_type": "display_data"
    }
   ],
   "source": [
    "\n",
    "fig, axes = plt.subplots(1, 2, figsize=(15, 5))\n",
    "\n",
    "sns.histplot(data['tenure'], kde=True, ax = axes[0])\n",
    "sns.histplot(data['MonthlyCharges'], kde=True, ax = axes[1])"
   ]
  },
  {
   "cell_type": "markdown",
   "id": "d66c68eb",
   "metadata": {},
   "source": [
    "Function to replace Yes and No text by 1 and 0 "
   ]
  },
  {
   "cell_type": "code",
   "execution_count": 7,
   "id": "e9fb9eab",
   "metadata": {
    "ExecuteTime": {
     "end_time": "2022-09-23T21:11:09.941175Z",
     "start_time": "2022-09-23T21:11:09.926185Z"
    }
   },
   "outputs": [],
   "source": [
    "def convert(x):\n",
    "    if x == 'Yes':\n",
    "        return 1\n",
    "    else:\n",
    "        return 0"
   ]
  },
  {
   "cell_type": "markdown",
   "id": "8ee63c0b",
   "metadata": {},
   "source": [
    "### X-y train test split"
   ]
  },
  {
   "cell_type": "code",
   "execution_count": 8,
   "id": "40f18f25",
   "metadata": {
    "ExecuteTime": {
     "end_time": "2022-09-23T21:11:09.957178Z",
     "start_time": "2022-09-23T21:11:09.942176Z"
    }
   },
   "outputs": [],
   "source": [
    "y = data['Churn']\n",
    "y = y.apply(convert)\n",
    "y = y.reset_index(drop=True)\n",
    "     \n",
    "X = data.drop('Churn', axis=1)\n",
    "\n",
    "X_train, X_test, y_train, y_test = train_test_split(X, y, test_size=0.2, random_state=1337)"
   ]
  },
  {
   "cell_type": "markdown",
   "id": "c618afc0",
   "metadata": {},
   "source": [
    "### Creating Min max Scaler transformer, fitting the train set and applying to both X sets"
   ]
  },
  {
   "cell_type": "code",
   "execution_count": 9,
   "id": "3af85e67",
   "metadata": {
    "ExecuteTime": {
     "end_time": "2022-09-23T21:11:09.973181Z",
     "start_time": "2022-09-23T21:11:09.958180Z"
    }
   },
   "outputs": [],
   "source": [
    "transformer = MinMaxScaler().fit(X_train)\n",
    "\n",
    "def min_max(Xnum):\n",
    "    return pd.DataFrame(transformer.transform(Xnum), columns=Xnum.columns)"
   ]
  },
  {
   "cell_type": "code",
   "execution_count": 10,
   "id": "b08c28e7",
   "metadata": {
    "ExecuteTime": {
     "end_time": "2022-09-23T21:11:09.989180Z",
     "start_time": "2022-09-23T21:11:09.975183Z"
    }
   },
   "outputs": [],
   "source": [
    "# X_train scaling\n",
    "X_train = min_max(X_train)\n",
    "X_test = min_max(X_test)"
   ]
  },
  {
   "cell_type": "markdown",
   "id": "3f828c7a",
   "metadata": {},
   "source": [
    "### Creating the logistics regression"
   ]
  },
  {
   "cell_type": "code",
   "execution_count": 11,
   "id": "f85a3c63",
   "metadata": {
    "ExecuteTime": {
     "end_time": "2022-09-23T21:11:10.005184Z",
     "start_time": "2022-09-23T21:11:09.990181Z"
    }
   },
   "outputs": [],
   "source": [
    "regression = LogisticRegression(random_state=0, solver='lbfgs')\n",
    "regression.fit(X_train, y_train)\n",
    "pred = regression.predict(X_test)"
   ]
  },
  {
   "cell_type": "markdown",
   "id": "084ab0ca",
   "metadata": {},
   "source": [
    "### Assess results"
   ]
  },
  {
   "cell_type": "code",
   "execution_count": 12,
   "id": "bf0753db",
   "metadata": {
    "ExecuteTime": {
     "end_time": "2022-09-23T21:11:10.021199Z",
     "start_time": "2022-09-23T21:11:10.006185Z"
    }
   },
   "outputs": [
    {
     "name": "stdout",
     "output_type": "stream",
     "text": [
      "Logistic regression Model:  78.64 %\n",
      "precision:  0.6404494382022472\n",
      "recall:  0.45478723404255317\n",
      "f1:  0.5318818040435459\n"
     ]
    },
    {
     "data": {
      "text/plain": [
       "array([[937,  96],\n",
       "       [205, 171]], dtype=int64)"
      ]
     },
     "execution_count": 12,
     "metadata": {},
     "output_type": "execute_result"
    }
   ],
   "source": [
    "print('Logistic regression Model: ',round(regression.score(X_test, y_test)*100,2),'%')\n",
    "print(\"precision: \",precision_score(y_test,pred))\n",
    "print(\"recall: \", recall_score(y_test,pred))\n",
    "print(\"f1: \", f1_score(y_test,pred))\n",
    "\n",
    "confusion_matrix(y_test,pred)"
   ]
  },
  {
   "cell_type": "markdown",
   "id": "2c917020",
   "metadata": {},
   "source": [
    "## Applying SMOTE "
   ]
  },
  {
   "cell_type": "code",
   "execution_count": 13,
   "id": "dbfa1a1a",
   "metadata": {
    "ExecuteTime": {
     "end_time": "2022-09-23T21:11:10.037276Z",
     "start_time": "2022-09-23T21:11:10.022200Z"
    }
   },
   "outputs": [],
   "source": [
    "smote = SMOTE(random_state=100, k_neighbors=3)\n",
    "X_S,y_S = smote.fit_resample(X_train,y_train)"
   ]
  },
  {
   "cell_type": "code",
   "execution_count": 14,
   "id": "ea69d9c8",
   "metadata": {
    "ExecuteTime": {
     "end_time": "2022-09-23T21:11:10.068535Z",
     "start_time": "2022-09-23T21:11:10.038277Z"
    },
    "scrolled": true
   },
   "outputs": [
    {
     "name": "stdout",
     "output_type": "stream",
     "text": [
      "Logistic regression Model:  73.17 %\n",
      "precision:  0.49818840579710144\n",
      "recall:  0.7313829787234043\n",
      "f1:  0.5926724137931035\n"
     ]
    },
    {
     "data": {
      "text/plain": [
       "array([[756, 277],\n",
       "       [101, 275]], dtype=int64)"
      ]
     },
     "execution_count": 14,
     "metadata": {},
     "output_type": "execute_result"
    }
   ],
   "source": [
    "regression.fit(X_S, y_S)\n",
    "pred = regression.predict(X_test)\n",
    "\n",
    "print('Logistic regression Model: ',round(regression.score(X_test, y_test)*100,2),'%')\n",
    "print(\"precision: \",precision_score(y_test,pred))\n",
    "print(\"recall: \",recall_score(y_test,pred))\n",
    "print(\"f1: \",f1_score(y_test,pred))\n",
    "confusion_matrix(y_test,pred)"
   ]
  },
  {
   "cell_type": "markdown",
   "id": "55afa990",
   "metadata": {},
   "source": [
    "# Conclusions"
   ]
  },
  {
   "cell_type": "markdown",
   "id": "534f5cfe",
   "metadata": {},
   "source": [
    "## Even a simple model will give us more than 70% accuracy. Why?"
   ]
  },
  {
   "cell_type": "markdown",
   "id": "e020a7bf",
   "metadata": {},
   "source": [
    "Considering that the NO answer of Churn is actually more than 70% of the dataset, if the model predicts all NO, it will be already mores than 70% efficient, wich might seem to be acceptable but in reallity isn't much more than guessing by default the right answer, so we can't just look at accuracy, we have to evaluate all metrics before commiting the model to final usage."
   ]
  },
  {
   "cell_type": "markdown",
   "id": "ac8fa126",
   "metadata": {},
   "source": [
    "## Build and evaluate the logistic regression model using SMOTE, is it there any improvement?"
   ]
  },
  {
   "cell_type": "markdown",
   "id": "5314b5b2",
   "metadata": {},
   "source": [
    "Using Smote hasn't improved the overall score, in fact, it decreases by 5%. Although, the recall and combined f1 scores are higher, in fact, recall goes up by a big 30%, If we look at the confusion matrix of each step we can also see this diferent results and caractheristics in first hand.\n",
    "Taking into account that the dataset is so imbalanced the solution will never be ideal, and in this case with smote creating nearly 3000 rows out of 1900 will have its own problems and will not make the model much better, just improve it in certain areas that may or may not help us.\n"
   ]
  },
  {
   "cell_type": "markdown",
   "id": "e22be5b2",
   "metadata": {},
   "source": [
    "## The optimal solution"
   ]
  },
  {
   "cell_type": "markdown",
   "id": "b54119ce",
   "metadata": {},
   "source": [
    "There isn't a better model. I tested Kneighbours and logistic regression with both undersampling, oversampling and a mix of both just to realize that the results never surpass any metric of any of the previous models."
   ]
  },
  {
   "cell_type": "code",
   "execution_count": 15,
   "id": "3219c57d",
   "metadata": {
    "ExecuteTime": {
     "end_time": "2022-09-23T21:11:11.268803Z",
     "start_time": "2022-09-23T21:11:10.069537Z"
    }
   },
   "outputs": [
    {
     "name": "stderr",
     "output_type": "stream",
     "text": [
      "Everything up-to-date\n"
     ]
    }
   ],
   "source": [
    "!git add"
   ]
  }
 ],
 "metadata": {
  "kernelspec": {
   "display_name": "Python 3 (ipykernel)",
   "language": "python",
   "name": "python3"
  },
  "language_info": {
   "codemirror_mode": {
    "name": "ipython",
    "version": 3
   },
   "file_extension": ".py",
   "mimetype": "text/x-python",
   "name": "python",
   "nbconvert_exporter": "python",
   "pygments_lexer": "ipython3",
   "version": "3.9.12"
  },
  "toc": {
   "base_numbering": 1,
   "nav_menu": {},
   "number_sections": true,
   "sideBar": true,
   "skip_h1_title": false,
   "title_cell": "Table of Contents",
   "title_sidebar": "Contents",
   "toc_cell": false,
   "toc_position": {
    "height": "calc(100% - 180px)",
    "left": "10px",
    "top": "150px",
    "width": "614.4px"
   },
   "toc_section_display": true,
   "toc_window_display": false
  }
 },
 "nbformat": 4,
 "nbformat_minor": 5
}
